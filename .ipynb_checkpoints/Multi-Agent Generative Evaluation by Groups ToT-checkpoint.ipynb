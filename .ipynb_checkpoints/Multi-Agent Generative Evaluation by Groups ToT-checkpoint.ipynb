{
 "cells": [
  {
   "cell_type": "code",
   "execution_count": 55,
   "id": "ad64ab6e",
   "metadata": {},
   "outputs": [],
   "source": [
    "from langchain_community.chat_models import ChatOllama\n",
    "from langchain_core.prompts import SystemMessagePromptTemplate,HumanMessagePromptTemplate,AIMessagePromptTemplate\n",
    "from langchain_core.messages import (\n",
    "    SystemMessage,\n",
    "    AIMessage,\n",
    "    HumanMessage\n",
    ")\n",
    "from langchain_core.output_parsers import StrOutputParser\n",
    "from langchain_core.prompts import ChatPromptTemplate"
   ]
  },
  {
   "cell_type": "markdown",
   "id": "1aaa5b74",
   "metadata": {},
   "source": [
    "### 表决PromptTemplate"
   ]
  },
  {
   "cell_type": "code",
   "execution_count": 323,
   "id": "a40616e5",
   "metadata": {},
   "outputs": [],
   "source": [
    "class EvaluateAgentResponseRromptTemplate():\n",
    "    def generate_vote_template(self):\n",
    "        #task: str,contexts: str,agent_response: str\n",
    "        return \"\"\"\n",
    "        Based on the context and your characterization, please vote for the task response. You must only answer True or False, don't say anything else:\n",
    "        The following are task, contexts, and it's response given:\n",
    "        Contexts: {contexts}\n",
    "        Task: {task}\n",
    "        Response: {agent_response}\n",
    "        True indicates approval of the response, Flase indicates disapproval:\n",
    "        Your Choice(Only True or False):\n",
    "        \"\"\""
   ]
  },
  {
   "cell_type": "markdown",
   "id": "c01f033d",
   "metadata": {},
   "source": [
    "### Base Agent for 评分、表决、执行"
   ]
  },
  {
   "cell_type": "code",
   "execution_count": 324,
   "id": "89d38425",
   "metadata": {},
   "outputs": [],
   "source": [
    "# 评分Agent\n",
    "class BaseAgent:  \n",
    "    def __init__(self,\n",
    "                 name: str,\n",
    "                 llmName: str,\n",
    "                 roleDescription: str,\n",
    "                 task: str,\n",
    "                 contexts: str = \"\"):  # 通过——进行评分\n",
    "        self.name = name\n",
    "        self.llmModel = ChatOllama(model=llmName)\n",
    "        self.roleDescription = roleDescription\n",
    "        self.task = task\n",
    "        self.contexts = contexts\n",
    "        self.history_messages = []\n",
    "        self.evaluate_scoreResponse = \"\"# 专门保存打分任务得分回复\n",
    "        self.responses = []\n",
    "        # 创建时，就确定其身份\n",
    "        sysTemplate = self.roleDescription\n",
    "        sysMsgPrompt = SystemMessagePromptTemplate.from_template(sysTemplate)\n",
    "        self.add_to_history(sysMsgPrompt)\n",
    "        \n",
    "    def add_to_history(self, message):\n",
    "        self.history_messages.append(message)\n",
    "        \n",
    "    def generate_prompt(self, messages):\n",
    "        chat_prompt = ChatPromptTemplate.from_messages(messages)\n",
    "#         print(chat_prompt)\n",
    "#         tmp = chat_prompt.format_prompt(task=self.task, sentence = self.sentence).to_messages()\n",
    "#         print(tmp)\n",
    "        return chat_prompt\n",
    "\n",
    "    def get_evaluate_score(self):\n",
    "        self.history_messages = self.history_messages[:1]\n",
    "        humTemplate = \"Next, you're going to complete task for the following context in a way that's characteristic of your identity. \\n Task: {task} \\n Context: {contexts} \\n You must only ansower evoluation score,don't say anything else. \\n Evoluation Score:\"\n",
    "        humMsgPrompt = HumanMessagePromptTemplate.from_template(humTemplate)\n",
    "        self.add_to_history(humMsgPrompt)\n",
    "        \n",
    "        prompt = self.generate_prompt(self.history_messages)\n",
    "#         print(prompt)\n",
    "        chain = prompt | self.llmModel | StrOutputParser()\n",
    "        evaluate_score = chain.invoke({\n",
    "            \"task\": self.task,\n",
    "            \"contexts\": self.contexts\n",
    "        }).strip()\n",
    "        self.evaluate_scoreResponse = evaluate_score\n",
    "        return self.evaluate_scoreResponse #response,\n",
    "    \n",
    "    def execute_task(self):\n",
    "        self.history_messages = self.history_messages[:1]\n",
    "        humTemplate = \"Next, you're going to complete task for the following context in a way that's characteristic of your identity. \\n Task: {task} \\n Context: {contexts} \\n Response:\"\n",
    "        humMsgPrompt = HumanMessagePromptTemplate.from_template(humTemplate)\n",
    "        self.add_to_history(humMsgPrompt)\n",
    "        \n",
    "        prompt = self.generate_prompt(self.history_messages)\n",
    "#         print(prompt)\n",
    "        chain = prompt | self.llmModel | StrOutputParser()\n",
    "        response = chain.invoke({\n",
    "            \"task\": self.task,\n",
    "            \"contexts\": self.contexts\n",
    "        }).strip()\n",
    "        self.responses.append(response)\n",
    "        return response #response,\n",
    "    \n",
    "    def execute_vote_task(self, task:str, agent_response: str):\n",
    "        self.history_messages = self.history_messages[:1]\n",
    "        humTemplate = EvaluateAgentResponseRromptTemplate()\n",
    "        humTemplate = humTemplate.generate_vote_template()\n",
    "        humMsgPrompt = HumanMessagePromptTemplate.from_template(humTemplate)\n",
    "        self.add_to_history(humMsgPrompt)\n",
    "        prompt = self.generate_prompt(self.history_messages)\n",
    "        vote_chain = prompt | self.llmModel | StrOutputParser()\n",
    "        choice_response = vote_chain.invoke({\n",
    "            \"task\": task,\n",
    "            \"contexts\": self.contexts,\n",
    "            \"agent_response\": agent_response\n",
    "        }).strip()\n",
    "        return choice_response"
   ]
  },
  {
   "cell_type": "code",
   "execution_count": 325,
   "id": "182399a3",
   "metadata": {},
   "outputs": [],
   "source": [
    "INFJAgent = BaseAgent(name = \"INFJ\",\n",
    "                      llmName=\"qwen:7b\",\n",
    "                      roleDescription=\"You are the quiet visionary, usually inspiring and tireless idealist.\",\n",
    "                      task=\"fluency evaluation(evaluate on a scale of 1-5)\", #\n",
    "                      contexts=\"Knowledge can change your fate and English can accomplish your future.\"\n",
    "                      )\n",
    "INFJres = INFJAgent.get_evaluate_score()\n",
    "\n",
    "\n",
    "INFPAgent = BaseAgent(name = \"INFP\",\n",
    "                      llmName=\"qwen:7b\",\n",
    "                      roleDescription=\"You are poetic, kind and selfless, always eager to help a just cause.\",\n",
    "                      task=\"fluency evaluation(evaluate on a scale of 1-5)\", #\n",
    "                      contexts=\"Knowledge can change your fate and English can accomplish your future.\"\n",
    "                      )\n",
    "INFPres = INFPAgent.get_evaluate_score()"
   ]
  },
  {
   "cell_type": "code",
   "execution_count": 326,
   "id": "3d4bab11",
   "metadata": {},
   "outputs": [
    {
     "name": "stdout",
     "output_type": "stream",
     "text": [
      "4\n",
      "-----------\n",
      "4\n"
     ]
    }
   ],
   "source": [
    "print(INFJres)\n",
    "print(\"-----------\")\n",
    "print(INFPres)"
   ]
  },
  {
   "cell_type": "code",
   "execution_count": 322,
   "id": "0aa88d0b",
   "metadata": {},
   "outputs": [
    {
     "data": {
      "text/plain": [
       "'INFJ'"
      ]
     },
     "execution_count": 322,
     "metadata": {},
     "output_type": "execute_result"
    }
   ],
   "source": [
    "INFJAgent.name"
   ]
  },
  {
   "cell_type": "code",
   "execution_count": 327,
   "id": "2825c959",
   "metadata": {},
   "outputs": [
    {
     "data": {
      "text/plain": [
       "'4'"
      ]
     },
     "execution_count": 327,
     "metadata": {},
     "output_type": "execute_result"
    }
   ],
   "source": [
    "INFJAgent.evaluate_scoreResponse"
   ]
  },
  {
   "cell_type": "code",
   "execution_count": 328,
   "id": "03da8bee",
   "metadata": {},
   "outputs": [
    {
     "data": {
      "text/plain": [
       "'4'"
      ]
     },
     "execution_count": 328,
     "metadata": {},
     "output_type": "execute_result"
    }
   ],
   "source": [
    "INFPAgent.evaluate_scoreResponse"
   ]
  },
  {
   "cell_type": "markdown",
   "id": "7ac917c5",
   "metadata": {},
   "source": [
    "### 任务/权重分配Assign Agent"
   ]
  },
  {
   "cell_type": "code",
   "execution_count": 82,
   "id": "7c2f2c58",
   "metadata": {},
   "outputs": [],
   "source": [
    "import json\n",
    "# from typing import Optional,List"
   ]
  },
  {
   "cell_type": "code",
   "execution_count": 139,
   "id": "08a9e04c",
   "metadata": {},
   "outputs": [],
   "source": [
    "# 任务分配Assign Agent\n",
    "class AssignAgent(BaseAgent):\n",
    "    def __init__(self,\n",
    "                 roleDescription: str,\n",
    "                 task: str,\n",
    "                 subWorkNumber: int = 1,\n",
    "                 llmName: str = \"qwen:7b\",\n",
    "                ):\n",
    "        #                  subWorks: Optional(List[str]) = None,\n",
    "        super().__init__(llmName=llmName,\n",
    "                        roleDescription=roleDescription,\n",
    "                        task=task)\n",
    "        # 若让Agent生成子任务\n",
    "#         self.subWorks = subWorks\n",
    "        self.subWorkNumber = subWorkNumber\n",
    "        self.descriptionOfGroups = [{\n",
    "            \"Name\": \"SP-type people \",\n",
    "            \"description\": \"They know that what they are doing now is to get what they want more smoothly and efficiently.\",\n",
    "            \"type\": \"object\",\n",
    "            \"properties\": {\n",
    "                \"Skills\": {\n",
    "                    \"title\": \"Skills\",\n",
    "                    \"description\": \"Skills these people good at.\",\n",
    "                    \"type\": \"string\",\n",
    "                    \"content\":\"\"\"\n",
    "                        1.Highly adaptable and motor-neurotic;\n",
    "                        2.Understands the reality of the situation and never fights it;\n",
    "                        3.Being observant and aware of what is happening around them;\n",
    "                        4.A preference for practicality, storing useful factual information with less regard for theoretical knowledge;\n",
    "                        5.Easy-going and patient, with a tendency to act in a cost-effective manner;\n",
    "                        6.An aptitude for working with machinery and tools;\n",
    "                        7.Sensitivity to color, line and structure, artistic temperament;\n",
    "                        8.Desire for personal experience in all things and know how to enjoy life.\n",
    "                    \"\"\"\n",
    "                },\n",
    "            },\n",
    "        },{\n",
    "            \"Name\": \"SJ-type people \",\n",
    "            \"description\": \"To be true to the point that everything should be done in a way that is appropriate and acceptable to the people.\",\n",
    "            \"type\": \"object\",\n",
    "            \"properties\": {\n",
    "                \"Skills\": {\n",
    "                    \"title\": \"Skills\",\n",
    "                    \"description\": \"Skills these people good at.\",\n",
    "                    \"type\": \"string\",\n",
    "                    \"content\":\"\"\"\n",
    "                        1.Conservative and reliable, following rules and regulations\n",
    "                        2.Perceptive and decisive\n",
    "                        3.Practical, never impulsive\n",
    "                        4.Patient and trustworthy\n",
    "                        5.Hard-working and conscientious\n",
    "                        6.Rigorous, detail-oriented and persistent\n",
    "\n",
    "                    \"\"\"\n",
    "                },\n",
    "            },\n",
    "        },{\n",
    "            \"Name\": \"NF-type people \",\n",
    "            \"description\": \"One thing is very important to them: they want all the people around them to feel good about them and to be happy with them.\",\n",
    "            \"type\": \"object\",\n",
    "            \"properties\": {\n",
    "                \"Skills\": {\n",
    "                    \"title\": \"Skills\",\n",
    "                    \"description\": \"Skills these people good at.\",\n",
    "                    \"type\": \"string\",\n",
    "                    \"content\":\"\"\"\n",
    "                        1.Kind and compassionate;\n",
    "                        2.Pious and passionate;\n",
    "                        3.Possessing keen intuition;\n",
    "                        4.Being insightful;\n",
    "                        5.Extremely creative;\n",
    "                        6.Highly subjective.\n",
    "                    \"\"\"\n",
    "                },\n",
    "            },\n",
    "        },{\n",
    "            \"Name\": \"NT-type people \",\n",
    "            \"description\": \"Everything they do and say makes sense.\",\n",
    "            \"type\": \"object\",\n",
    "            \"properties\": {\n",
    "                \"Skills\": {\n",
    "                    \"title\": \"Skills\",\n",
    "                    \"description\": \"Skills these people good at.\",\n",
    "                    \"type\": \"string\",\n",
    "                    \"content\":\"\"\"\n",
    "                        1.Good at analyzing and being organized;\n",
    "                        2.Abstract and theoretical views;\n",
    "                        3.Rational and complex ideas;\n",
    "                        4.Strong ability and creativity;\n",
    "                        5.Highly efficient and rigorous;\n",
    "                        6.Logical and professional;\n",
    "                        7.Curious and good at research\n",
    "                    \"\"\"\n",
    "                },\n",
    "            },\n",
    "        }\n",
    "        ]\n",
    "        self.response_schema = {\n",
    "            \"title\": \"Groups\",\n",
    "            \"description\": \"Identifying information about a group.\",\n",
    "            \"type\": \"object\",\n",
    "            \"properties\": {\n",
    "                \"name\": {\"title\": \"Name\", \"description\": \"The group's name\", \"type\": \"string\"},\n",
    "                \"weights\": {\n",
    "                    \"title\": \"Weights\",\n",
    "                    \"description\": \"The weight you assigned to this group based on the task\",\n",
    "                    \"type\": \"float\",\n",
    "                },\n",
    "                \"reason\": {\n",
    "                    \"title\": \"Reason\",\n",
    "                    \"description\": \"Reasons for assigning this weight to this group\",\n",
    "                    \"type\": \"str\",\n",
    "                },\n",
    "#                 \"tasked\": {\n",
    "#                     \"title\": \"tasks\",\n",
    "#                     \"description\": \"the subtasks you break task down rationally into.\",\n",
    "#                     \"type\": \"string\",\n",
    "#                 },\n",
    "            },\n",
    "            \"required\": [\"name\", \"weights\"],\n",
    "        }\n",
    "        self.json_responseScheme = json.dumps(self.response_schema, indent=2)\n",
    "        self.step_schema = {\n",
    "            \"title\": \"Evaluation Step\",\n",
    "            \"description\": \"Identifying information about this evaluation step.\",\n",
    "            \"type\": \"object\",\n",
    "            \"properties\": {\n",
    "                \"id\": {\"title\": \"ID\", \"description\": \"The this step ID\", \"type\": \"string\"},\n",
    "                \"reason\": {\n",
    "                    \"title\": \"Reason\",\n",
    "                    \"description\": \"Reasons why this step is set up this way.\",\n",
    "                    \"type\": \"str\",\n",
    "                },\n",
    "                \"content\": {\n",
    "                    \"title\": \"Content\",\n",
    "                    \"description\": \"A brief description of the content of this evaluation step.\",\n",
    "                    \"type\": \"string\",\n",
    "                },\n",
    "                \"weight\": {\n",
    "                    \"title\": \"Weight\",\n",
    "                    \"description\": \"Quantitative description of the importance of this assessment step in the overall task\",\n",
    "                    \"type\": \"float\",\n",
    "                },\n",
    "            },\n",
    "            \"required\": [\"id\", \"reason\", \"content\", \"weight\"],\n",
    "        }\n",
    "        self.json_stepScheme = json.dumps(self.step_schema, indent=2)\n",
    "\n",
    "    def generate_prompt(self, messages):\n",
    "        chat_prompt = ChatPromptTemplate.from_messages(messages)\n",
    "#         print(chat_prompt)\n",
    "#         tmp = chat_prompt.format_prompt(\n",
    "#             task= self.task,\n",
    "#             subWorkNumber = self.subWorkNumber,\n",
    "#             descriptionOfGroups = self.descriptionOfGroups,\n",
    "#             json_responseScheme = self.json_responseScheme\n",
    "#         ).to_messages()\n",
    "#         print(tmp)\n",
    "        return chat_prompt\n",
    "    \n",
    "    def execute_task(self):\n",
    "        sysTemplate = self.roleDescription\n",
    "        sysMsgPrompt = SystemMessagePromptTemplate.from_template(sysTemplate)\n",
    "        self.add_to_history(sysMsgPrompt)\n",
    "        ####################步骤划分#################################\n",
    "        humTemplate_forStepGenerate=\"\"\"\n",
    "        You need to Divide the task of {task}  rationally into {subWorkNumber} evaluation steps to complete in a way that's characteristic of your identity, and assigns a weight to this evaluation step based on its importance in the overall task, with the sum of the weights of all evaluation steps for a task being 1.\n",
    "        Note that the process must be oriented to get the result of the task without any additional operations.\n",
    "        Please tell me about these steps just only using the following JSON schema, you must only answer the json,don't say anything else:\n",
    "        {json_stepScheme}        \n",
    "        \"\"\"\n",
    "        humMsgPrompt_forStepGenerate = HumanMessagePromptTemplate.from_template(humTemplate_forStepGenerate)\n",
    "        self.add_to_history(humMsgPrompt_forStepGenerate)\n",
    "        prompt_for_steps = self.generate_prompt(self.history_messages)      \n",
    "        chain_for_steps = prompt_for_steps | self.llmModel | StrOutputParser()\n",
    "        steps_response = chain_for_steps.invoke({\n",
    "            \"task\": self.task,\n",
    "            \"subWorkNumber\": self.subWorkNumber,\n",
    "            \"json_stepScheme\": self.json_stepScheme\n",
    "        }).strip()\n",
    "        self.history_messages.pop()\n",
    "        ####################权重分配#################################\n",
    "        humTemplate = \"\"\"\n",
    "        Based on the task of {task}, you need to judge following groups fitness for this task and assign them weights (the sum of the weights is 1) in a way that's characteristic of your identity.\n",
    "        A description of the four groups is provided: \n",
    "        {descriptionOfGroups}\n",
    "        Please tell me about these groups just only using the following JSON schema, you must only answer the json,don't say anything else:\n",
    "        {json_responseScheme}\n",
    "        \"\"\"\n",
    "        humMsgPrompt = HumanMessagePromptTemplate.from_template(humTemplate)\n",
    "        self.add_to_history(humMsgPrompt)     \n",
    "        prompt = self.generate_prompt(self.history_messages)\n",
    "        chain = prompt | self.llmModel | StrOutputParser()\n",
    "\n",
    "        response = chain.invoke({\n",
    "            \"task\": self.task,\n",
    "            \"descriptionOfGroups\": self.descriptionOfGroups,\n",
    "            \"json_responseScheme\": self.json_responseScheme\n",
    "        }).strip()\n",
    "        return steps_response, response #response,"
   ]
  },
  {
   "cell_type": "code",
   "execution_count": 140,
   "id": "cf7b38a7",
   "metadata": {},
   "outputs": [],
   "source": [
    "assignAgent = AssignAgent(\n",
    "                llmName=\"qwen:7b\",\n",
    "                roleDescription=\"You are a professional psychologist and co-ordinator who specializes in subtask generation and assigning tasks based on character traits\",\n",
    "                task=\"fluency ratings(evaluate on a scale of 1-5)\", #\n",
    "#                 sentence=\"Knowledge can change your fate and English can accomplish your future.\"\n",
    "                subWorkNumber = 2\n",
    ")"
   ]
  },
  {
   "cell_type": "code",
   "execution_count": 141,
   "id": "0c656846",
   "metadata": {},
   "outputs": [],
   "source": [
    "step,res = assignAgent.execute_task()"
   ]
  },
  {
   "cell_type": "code",
   "execution_count": 142,
   "id": "f5fee2ef",
   "metadata": {},
   "outputs": [
    {
     "name": "stdout",
     "output_type": "stream",
     "text": [
      "{\n",
      "\"title\": \"Evaluation Step 1: Fluency Rating\",\n",
      "\"id\": \"step1\",\n",
      "\"reason\": \"Initial assessment step for overall fluency rating.\",\n",
      "\"content\": \"Rate the speaker's ability to produce speech fluently. Scale from 1-5, with 1 being poor fluency and 5 being excellent fluency.\",\n",
      "\"weight\": 0.6\n",
      "},\n",
      "{\n",
      "\"title\": \"Evaluation Step 2: Fluency Duration\",\n",
      "\"id\": \"step2\",\n",
      "\"reason\": \"Second assessment step to evaluate the speaker's sustained fluency.\",\n",
      "\"content\": \"Measure how long the speaker maintains fluent speech without pauses or breaks. This can be done by time-stamping specific sections of the speech.\",\n",
      "\"weight\": 0.4\n",
      "}\n",
      "]\n"
     ]
    }
   ],
   "source": [
    "print(step)"
   ]
  },
  {
   "cell_type": "code",
   "execution_count": 149,
   "id": "b93e9a11",
   "metadata": {},
   "outputs": [
    {
     "name": "stdout",
     "output_type": "stream",
     "text": [
      "[{\n",
      "\"title\": \"Evaluation Step 1: Fluency Rating\",\n",
      "\"id\": \"step1\",\n",
      "\"reason\": \"Initial assessment step for overall fluency rating.\",\n",
      "\"content\": \"Rate the speaker's ability to produce speech fluently. Scale from 1-5, with 1 being poor fluency and 5 being excellent fluency.\",\n",
      "\"weight\": 0.6\n",
      "},\n",
      "{\n",
      "\"title\": \"Evaluation Step 2: Fluency Duration\",\n",
      "\"id\": \"step2\",\n",
      "\"reason\": \"Second assessment step to evaluate the speaker's sustained fluency.\",\n",
      "\"content\": \"Measure how long the speaker maintains fluent speech without pauses or breaks. This can be done by time-stamping specific sections of the speech.\",\n",
      "\"weight\": 0.4\n",
      "}]\n"
     ]
    }
   ],
   "source": [
    "import re\n",
    "steps_match = re.search(r'\\{.*\\}', step, re.DOTALL)\n",
    "\n",
    "if steps_match:\n",
    "    steps_result = steps_match.group(0)\n",
    "    steps_result = \"[\"+steps_result+\"]\"\n",
    "    print(steps_result)\n",
    "else:\n",
    "    print(\"No match found\")"
   ]
  },
  {
   "cell_type": "code",
   "execution_count": 150,
   "id": "e2f90ea5",
   "metadata": {},
   "outputs": [
    {
     "name": "stdout",
     "output_type": "stream",
     "text": [
      "[{ \"name\": \"SP-people Group\", \"weights\": 0.3, \"reason\": \"High adaptability and motor-neurotic traits make them skilled in fluency ratings.\" },\n",
      "{ \"name\": \"SJ-people Group\", \"weights\": 0.4, \"reason\": \"Conservative and reliable nature makes them trustworthy for evaluating fluency. Decision-making abilities also contribute to their effectiveness in this task.\" },\n",
      "{ \"name\": \"NF-people Group\", \"weights\": 0.25, \"reason\": \"Their empathetic and artistic disposition make them skilled at connecting with others and creating engaging content, which can be reflected in fluency ratings.\" },\n",
      "{ \"name\": \"NT-people Group\", \"weights\": 0.3, \"reason\": \"Their strong analytical skills and organized nature make them particularly effective at evaluating fluency. Their creativity and complex ideas also contribute to their unique perspective in this task.\" }]\n"
     ]
    }
   ],
   "source": [
    "res_match = re.search(r'\\{.*\\}', res, re.DOTALL)\n",
    "\n",
    "if res_match:\n",
    "    res_result = res_match.group(0)\n",
    "    res_result = \"[\"+res_result+\"]\"\n",
    "    print(res_result)\n",
    "else:\n",
    "    print(\"No match found\")"
   ]
  },
  {
   "cell_type": "markdown",
   "id": "ebb00f96",
   "metadata": {},
   "source": [
    "### 组内协商"
   ]
  },
  {
   "cell_type": "code",
   "execution_count": 344,
   "id": "87c62aa3",
   "metadata": {},
   "outputs": [],
   "source": [
    "import pandas as pd\n",
    "import numpy as np\n",
    "class IntraGroupNegotiation():\n",
    "    def __init__(self,\n",
    "                 agents: List[BaseAgent],\n",
    "                 steps: str,  #json列表字符串\n",
    "#                  groups: str,  #json列表字符串  #迁移到InterNegotiation中\n",
    "                 ):\n",
    "        self.agents = agents\n",
    "        self.steps = json.loads(steps)\n",
    "        self.groups = json.loads(groups)\n",
    "        self.epochs = len(self.steps)  # 协商轮数\n",
    "        self.vote2score_info = {} #最终组内协商后的加权评分信息\n",
    "        sum_stepWeights = 0\n",
    "        sum_groupWeights = 0\n",
    "\n",
    "        # 更新权重，因为可能LLM给出的权重和不一定为1\n",
    "        for step in self.steps:\n",
    "            sum_stepWeights += step[\"weight\"]\n",
    "        for group in self.groups:\n",
    "            sum_groupWeights += group[\"weights\"]\n",
    "        \n",
    "        for step in self.steps:\n",
    "            step[\"weight\"] = step[\"weight\"]/sum_stepWeights\n",
    "        for group in self.groups:\n",
    "            group[\"weights\"] = group[\"weights\"]/sum_groupWeights\n",
    "     \n",
    "    \n",
    "    def run_negotiate(self):\n",
    "        print(\"EPOCH:\",self.epochs)\n",
    "        print(self.steps)\n",
    "        agentsNum = len(self.agents)\n",
    "        dfs = {}\n",
    "        task_overall_responses=[]\n",
    "        # 开始进行组内协商\n",
    "        for epoch in range(self.epochs):\n",
    "            print(\"epoch:\",epoch)\n",
    "            response_of_agents = [] # 用于该step中agent的相应\n",
    "            task_of_step = self.steps[epoch][\"content\"]\n",
    "            vote_df = pd.DataFrame(index=[agent.name for agent in self.agents], \n",
    "                                    columns=[agent.name for agent in self.agents])     # 记录每个Step中投票情况       \n",
    "            for agent in self.agents:\n",
    "                # 生成每个agent关于该step的响应\n",
    "                agent.task = task_of_step\n",
    "                res = agent.execute_task()\n",
    "                response_of_agents.append(res)\n",
    "                \n",
    "            for idx, agent in enumerate(self.agents):\n",
    "                # 生成该轮讨论下，agents间对彼此的投票\n",
    "                for i in range(agentsNum):\n",
    "                    if i != idx:\n",
    "                        vote_res = agent.execute_vote_task(task = task_of_step, agent_response = response_of_agents[i])                      \n",
    "                        vote_df.loc[self.agents[idx].name, self.agents[i].name] = vote_res\n",
    "                        \n",
    "            task_overall_responses.append(response_of_agents)  # 每一轮中每个agent的回答详情\n",
    "            dfs[\"step\"+str(epoch+1)] = vote_df.applymap(lambda x: 1 if x == 'True' else 0)  # 替换掉True,False,NAN\n",
    "            \n",
    "        return dfs, task_overall_responses\n",
    "    \n",
    "    def cal_score(self,\n",
    "                  voteInfo: dict,\n",
    "                  ) -> dict:\n",
    "#         vote2score_info = {}\n",
    "        vote_with_steps = []\n",
    "        for epoch in range(self.epochs):\n",
    "            vote_with_steps.append(voteInfo[\"step\"+str(epoch+1)].sum().to_frame().T)\n",
    "        vote_with_steps = pd.concat(vote_with_steps,ignore_index=True)\n",
    "        vote_with_steps.index = [\"step\"+str(x+1) for x in range(self.epochs)]  # steps-agents票数记录,要返回\n",
    "        \n",
    "        # 找出每个step中得票数最多的Agent\n",
    "        maxVotedAgent_eachStep = []\n",
    "        for _, row in vote_with_steps.iterrows():\n",
    "            max_votes = max(row)\n",
    "            top_agents = [agent for agent, vote in row.items() if vote == max_votes]\n",
    "            if max_votes == 0:\n",
    "                top_agents = []\n",
    "            maxVotedAgent_eachStep.append(top_agents)  # [[],['Agent2'], ['Agent1', 'Agent2']]\n",
    "            \n",
    "        #计算最终加权评分\n",
    "        agents_evaluationScores = {}  # 每个agent对任务的宏观打分\n",
    "        for agent in self.agents:\n",
    "            agents_evaluationScores[agent.name] = int(agent.evaluate_scoreResponse)\n",
    "\n",
    "        step_weights = [step[\"weight\"] for step in self.steps]            #每一步的权重\n",
    "        step_value_from_agents = []  # Agents联合为每一步打的分\n",
    "        tmp_sum=0\n",
    "        final_score=0 #组内协商后最终评估得分\n",
    "        for item in maxVotedAgent_eachStep:\n",
    "            if not item:\n",
    "                step_value_from_agents.append(0)\n",
    "            else:\n",
    "                for inner_item in item:\n",
    "                    tmp_sum += agents_evaluationScores[inner_item]\n",
    "                step_value_from_agents.append(tmp_sum/len(item))\n",
    "                tmp_sum=0\n",
    "                \n",
    "        step_value_from_agents = np.array(step_value_from_agents)\n",
    "        step_weights = np.array(step_weights)\n",
    "        final_score = np.dot(step_value_from_agents, step_weights)  # 点积计算加权得分\n",
    "        self.vote2score_info[\"vote_detailed\"] = vote_with_steps\n",
    "        #   Agent1  Agent2\n",
    "        #step1  1    1\n",
    "        #step2  0    0\n",
    "        self.vote2score_info[\"maxVotedAgent_eachStep\"] =  maxVotedAgent_eachStep\n",
    "        # [[],['Agent2'], ['Agent1', 'Agent2']]\n",
    "        self.vote2score_info[\"step_value_from_agents\"] = step_value_from_agents\n",
    "        #[0,1]\n",
    "        self.vote2score_info[\"step_weights\"] = step_weights\n",
    "        #[0.4,0.6]\n",
    "        self.vote2score_info[\"intra_group_final_score\"] = final_score \n",
    "        # 0.6\n",
    "        return self.vote2score_info"
   ]
  },
  {
   "cell_type": "code",
   "execution_count": 345,
   "id": "3fd246c2",
   "metadata": {},
   "outputs": [],
   "source": [
    "negotiation = IntraGroupNegotiation(agents=[INFJAgent,INFPAgent],\n",
    "                               steps=steps_result,\n",
    "                               groups=res_result)"
   ]
  },
  {
   "cell_type": "code",
   "execution_count": 338,
   "id": "c19cdd88",
   "metadata": {},
   "outputs": [
    {
     "name": "stdout",
     "output_type": "stream",
     "text": [
      "EPOCH: 2\n",
      "[{'title': 'Evaluation Step 1: Fluency Rating', 'id': 'step1', 'reason': 'Initial assessment step for overall fluency rating.', 'content': \"Rate the speaker's ability to produce speech fluently. Scale from 1-5, with 1 being poor fluency and 5 being excellent fluency.\", 'weight': 0.6}, {'title': 'Evaluation Step 2: Fluency Duration', 'id': 'step2', 'reason': \"Second assessment step to evaluate the speaker's sustained fluency.\", 'content': 'Measure how long the speaker maintains fluent speech without pauses or breaks. This can be done by time-stamping specific sections of the speech.', 'weight': 0.4}]\n",
      "epoch: 0\n",
      "epoch: 1\n"
     ]
    }
   ],
   "source": [
    "neg_dfs, overall_respionses = negotiation.run_negotiate()"
   ]
  },
  {
   "cell_type": "code",
   "execution_count": 348,
   "id": "b01e4220",
   "metadata": {},
   "outputs": [
    {
     "name": "stdout",
     "output_type": "stream",
     "text": [
      "      INFJ  INFP\n",
      "INFJ     0     1\n",
      "INFP     1     0\n",
      "      INFJ  INFP\n",
      "INFJ     0     1\n",
      "INFP     1     0\n"
     ]
    }
   ],
   "source": [
    "print(neg_dfs[\"step1\"])\n",
    "print(neg_dfs[\"step2\"])"
   ]
  },
  {
   "cell_type": "code",
   "execution_count": 346,
   "id": "092153d1",
   "metadata": {},
   "outputs": [],
   "source": [
    "vote2score_info = negotiation.cal_score(neg_dfs)"
   ]
  },
  {
   "cell_type": "code",
   "execution_count": 347,
   "id": "b6fdeb56",
   "metadata": {},
   "outputs": [
    {
     "data": {
      "text/plain": [
       "{'vote_detailed':        INFJ  INFP\n",
       " step1     1     1\n",
       " step2     1     1,\n",
       " 'maxVotedAgent_eachStep': [['INFJ', 'INFP'], ['INFJ', 'INFP']],\n",
       " 'step_value_from_agents': array([4., 4.]),\n",
       " 'step_weights': array([0.6, 0.4]),\n",
       " 'intra_group_final_score': 4.0}"
      ]
     },
     "execution_count": 347,
     "metadata": {},
     "output_type": "execute_result"
    }
   ],
   "source": [
    "vote2score_info"
   ]
  },
  {
   "cell_type": "markdown",
   "id": "66cd302b",
   "metadata": {},
   "source": [
    "### 组间共谋"
   ]
  },
  {
   "cell_type": "code",
   "execution_count": 368,
   "id": "3b4ba8df",
   "metadata": {},
   "outputs": [],
   "source": [
    "#groupsAssign---[{ \"name\": \"SP-people Group\", \"weights\": 0.3, \"reason\": \"High adaptability and motor-neurotic traits make them skilled in fluency ratings.\" },\n",
    "#{ \"name\": \"SJ-people Group\", \"weights\": 0.4, \"reason\": \"Conservative and reliable nature makes them trustworthy for evaluating fluency. Decision-making abilities also contribute to their effectiveness in this task.\" },\n",
    "#{ \"name\": \"NF-people Group\", \"weights\": 0.25, \"reason\": \"Their empathetic and artistic disposition make them skilled at connecting with others and creating engaging content, which can be reflected in fluency ratings.\" },\n",
    "#{ \"name\": \"NT-people Group\", \"weights\": 0.3, \"reason\": \"Their strong analytical skills and organized nature make them particularly effective at evaluating fluency. Their creativity and complex ideas also contribute to their unique perspective in this task.\" }]\n",
    "class InterGroupsNegotiation():\n",
    "    def __init__(self,\n",
    "                 negotiations: List[IntraGroupNegotiation],\n",
    "                 groupsAssign: str,  #json列表字符串\n",
    "                 ):\n",
    "        \"\"\"\n",
    "        Note: the order of groupsAssign should responding to the order of negotiations\n",
    "              ,that avoid the weights Assigned mistakely.\n",
    "        \"\"\"\n",
    "        self.negotiations = negotiations\n",
    "        self.groupsAssign = json.loads(groupsAssign)\n",
    "        self.negotiationNum = len(self.negotiations)\n",
    "        \n",
    "        sum_groupWeights = 0\n",
    "        \n",
    "        self.eachNegtiationInfo = {}  # 记录每个group negotiation的协商信息\n",
    "        self.groupsNegotiation2Score_Info = {} # 记录组间协商情况和最终得分\n",
    "        \n",
    "        # 更新权重，因为可能LLM给出的权重和不一定为1\n",
    "        for group in self.groupsAssign:\n",
    "            sum_groupWeights += group[\"weights\"]\n",
    "        \n",
    "        for group in self.groupsAssign:\n",
    "            group[\"weights\"] = group[\"weights\"]/sum_groupWeights\n",
    "            \n",
    "    def run_negotiations(self):\n",
    "        \n",
    "        for _, neg in enumerate(self.negotiations):\n",
    "            neg_dfs, overall_respionses  = neg.run_negotiate()\n",
    "            self.eachNegtiationInfo[\"GroupNegotiation\"+str(_+1)] = neg.cal_score(neg_dfs)\n",
    "        \n",
    "        return self.eachNegtiationInfo  # 每一个intra group negatiation的结果信息\n",
    "    \n",
    "    def cal_groups_score(self,\n",
    "                         eachNegtiationInfo):\n",
    "        groupScores = [eachNegtiationInfo[\"GroupNegotiation\"+str(_+1)]['intra_group_final_score'] for _ in range(self.negotiationNum)]\n",
    "        print(groupScores)\n",
    "        groupWeights = [group[\"weights\"] for group in self.groupsAssign]\n",
    "        print(groupWeights)\n",
    "        np_groupScores = np.array(groupScores)\n",
    "        np_groupWeights = np.array(groupWeights)\n",
    "        \n",
    "        self.groupsNegotiation2Score_Info[\"GroupNegotiations\"] = eachNegtiationInfo\n",
    "        self.groupsNegotiation2Score_Info[\"GroupWeights\"] = groupWeights\n",
    "        self.groupsNegotiation2Score_Info[\"InterGroupsScore\"] = np.dot(np_groupScores, np_groupWeights)\n",
    "        return self.groupsNegotiation2Score_Info"
   ]
  },
  {
   "cell_type": "code",
   "execution_count": 369,
   "id": "ed7bda11",
   "metadata": {},
   "outputs": [],
   "source": [
    "negs = [negotiation]\n",
    "groupsAssign = '[{ \"name\": \"SP-people Group\", \"weights\": 0.3, \"reason\": \"High adaptability and motor-neurotic traits make them skilled in fluency ratings.\" }]'"
   ]
  },
  {
   "cell_type": "code",
   "execution_count": 370,
   "id": "dc24992d",
   "metadata": {},
   "outputs": [],
   "source": [
    "inter_neg = InterGroupsNegotiation(negs,groupsAssign)"
   ]
  },
  {
   "cell_type": "code",
   "execution_count": 367,
   "id": "3b3beda6",
   "metadata": {},
   "outputs": [
    {
     "name": "stdout",
     "output_type": "stream",
     "text": [
      "EPOCH: 2\n",
      "[{'title': 'Evaluation Step 1: Fluency Rating', 'id': 'step1', 'reason': 'Initial assessment step for overall fluency rating.', 'content': \"Rate the speaker's ability to produce speech fluently. Scale from 1-5, with 1 being poor fluency and 5 being excellent fluency.\", 'weight': 0.6}, {'title': 'Evaluation Step 2: Fluency Duration', 'id': 'step2', 'reason': \"Second assessment step to evaluate the speaker's sustained fluency.\", 'content': 'Measure how long the speaker maintains fluent speech without pauses or breaks. This can be done by time-stamping specific sections of the speech.', 'weight': 0.4}]\n",
      "epoch: 0\n",
      "epoch: 1\n"
     ]
    }
   ],
   "source": [
    "eachNegtiationInfo = inter_neg.run_negotiations()"
   ]
  },
  {
   "cell_type": "code",
   "execution_count": 371,
   "id": "5cd45d84",
   "metadata": {},
   "outputs": [
    {
     "data": {
      "text/plain": [
       "{'GroupNegotiation1': {'vote_detailed':        INFJ  INFP\n",
       "  step1     1     1\n",
       "  step2     1     1,\n",
       "  'maxVotedAgent_eachStep': [['INFJ', 'INFP'], ['INFJ', 'INFP']],\n",
       "  'step_value_from_agents': array([4., 4.]),\n",
       "  'step_weights': array([0.6, 0.4]),\n",
       "  'intra_group_final_score': 4.0}}"
      ]
     },
     "execution_count": 371,
     "metadata": {},
     "output_type": "execute_result"
    }
   ],
   "source": [
    "eachNegtiationInfo"
   ]
  },
  {
   "cell_type": "code",
   "execution_count": 372,
   "id": "20bbe02e",
   "metadata": {},
   "outputs": [
    {
     "name": "stdout",
     "output_type": "stream",
     "text": [
      "[4.0]\n",
      "[1.0]\n"
     ]
    }
   ],
   "source": [
    "groupsNegotiation2Score_Info = inter_neg.cal_groups_score(eachNegtiationInfo)"
   ]
  },
  {
   "cell_type": "code",
   "execution_count": 374,
   "id": "446c8301",
   "metadata": {},
   "outputs": [
    {
     "data": {
      "text/plain": [
       "{'GroupNegotiations': {'GroupNegotiation1': {'vote_detailed':        INFJ  INFP\n",
       "   step1     1     1\n",
       "   step2     1     1,\n",
       "   'maxVotedAgent_eachStep': [['INFJ', 'INFP'], ['INFJ', 'INFP']],\n",
       "   'step_value_from_agents': array([4., 4.]),\n",
       "   'step_weights': array([0.6, 0.4]),\n",
       "   'intra_group_final_score': 4.0}},\n",
       " 'GroupWeights': [1.0],\n",
       " 'InterGroupsScore': 4.0}"
      ]
     },
     "execution_count": 374,
     "metadata": {},
     "output_type": "execute_result"
    }
   ],
   "source": [
    "groupsNegotiation2Score_Info"
   ]
  },
  {
   "cell_type": "code",
   "execution_count": 375,
   "id": "257f3c4d",
   "metadata": {},
   "outputs": [
    {
     "data": {
      "text/plain": [
       "4.0"
      ]
     },
     "execution_count": 375,
     "metadata": {},
     "output_type": "execute_result"
    }
   ],
   "source": [
    "groupsNegotiation2Score_Info['InterGroupsScore']"
   ]
  },
  {
   "cell_type": "code",
   "execution_count": null,
   "id": "65afafb6",
   "metadata": {},
   "outputs": [],
   "source": []
  },
  {
   "cell_type": "code",
   "execution_count": null,
   "id": "ca206d51",
   "metadata": {},
   "outputs": [],
   "source": []
  },
  {
   "cell_type": "code",
   "execution_count": null,
   "id": "5504e63f",
   "metadata": {},
   "outputs": [],
   "source": []
  },
  {
   "cell_type": "code",
   "execution_count": null,
   "id": "e957e34a",
   "metadata": {},
   "outputs": [],
   "source": []
  },
  {
   "cell_type": "code",
   "execution_count": null,
   "id": "9bc6df50",
   "metadata": {},
   "outputs": [],
   "source": []
  },
  {
   "cell_type": "code",
   "execution_count": 277,
   "id": "c0dc5979",
   "metadata": {},
   "outputs": [
    {
     "data": {
      "text/plain": [
       "{'step1':         Agent1  Agent2\n",
       " Agent1       0       2\n",
       " Agent2       0       0,\n",
       " 'step2':        Agent1 Agent2\n",
       " Agent1    NaN   True\n",
       " Agent2  False    NaN}"
      ]
     },
     "execution_count": 277,
     "metadata": {},
     "output_type": "execute_result"
    }
   ],
   "source": [
    "# 计算最中得票数\n",
    "neg_dfs"
   ]
  },
  {
   "cell_type": "code",
   "execution_count": 306,
   "id": "33b440c1",
   "metadata": {},
   "outputs": [
    {
     "data": {
      "text/plain": [
       "{'step1':         Agent1  Agent2\n",
       " Agent1       0       0\n",
       " Agent2       0       0,\n",
       " 'step2':         Agent1  Agent2\n",
       " Agent1       0       1\n",
       " Agent2       0       0}"
      ]
     },
     "execution_count": 306,
     "metadata": {},
     "output_type": "execute_result"
    }
   ],
   "source": [
    "neg_dfs"
   ]
  },
  {
   "cell_type": "code",
   "execution_count": 307,
   "id": "85763837",
   "metadata": {},
   "outputs": [
    {
     "data": {
      "text/html": [
       "<div>\n",
       "<style scoped>\n",
       "    .dataframe tbody tr th:only-of-type {\n",
       "        vertical-align: middle;\n",
       "    }\n",
       "\n",
       "    .dataframe tbody tr th {\n",
       "        vertical-align: top;\n",
       "    }\n",
       "\n",
       "    .dataframe thead th {\n",
       "        text-align: right;\n",
       "    }\n",
       "</style>\n",
       "<table border=\"1\" class=\"dataframe\">\n",
       "  <thead>\n",
       "    <tr style=\"text-align: right;\">\n",
       "      <th></th>\n",
       "      <th>Agent1</th>\n",
       "      <th>Agent2</th>\n",
       "    </tr>\n",
       "  </thead>\n",
       "  <tbody>\n",
       "    <tr>\n",
       "      <th>step1</th>\n",
       "      <td>0</td>\n",
       "      <td>0</td>\n",
       "    </tr>\n",
       "    <tr>\n",
       "      <th>step2</th>\n",
       "      <td>0</td>\n",
       "      <td>1</td>\n",
       "    </tr>\n",
       "  </tbody>\n",
       "</table>\n",
       "</div>"
      ],
      "text/plain": [
       "       Agent1  Agent2\n",
       "step1       0       0\n",
       "step2       0       1"
      ]
     },
     "execution_count": 307,
     "metadata": {},
     "output_type": "execute_result"
    }
   ],
   "source": [
    "cal_score(neg_dfs)"
   ]
  },
  {
   "cell_type": "code",
   "execution_count": 311,
   "id": "bade7b9e",
   "metadata": {},
   "outputs": [
    {
     "name": "stdout",
     "output_type": "stream",
     "text": [
      "[['Agent2'], ['Agent1', 'Agent2']]\n"
     ]
    }
   ],
   "source": [
    "# 创建样例数据\n",
    "data = {\n",
    "    'Agent1': [0, 1],\n",
    "    'Agent2': [1, 1]\n",
    "}\n",
    "df = pd.DataFrame(data, index=['step1', 'step2'])\n",
    "\n",
    "# 找出每个step中得票数最多的Agent\n",
    "result = []\n",
    "for _, row in df.iterrows():\n",
    "    max_votes = max(row)\n",
    "    top_agents = [agent for agent, vote in row.items() if vote == max_votes]\n",
    "    result.append(top_agents)\n",
    "\n",
    "\n",
    "\n",
    "print(result)"
   ]
  },
  {
   "cell_type": "code",
   "execution_count": 315,
   "id": "50347619",
   "metadata": {},
   "outputs": [
    {
     "data": {
      "text/plain": [
       "1"
      ]
     },
     "execution_count": 315,
     "metadata": {},
     "output_type": "execute_result"
    }
   ],
   "source": [
    "int('Agent2'[-1])-1"
   ]
  },
  {
   "cell_type": "code",
   "execution_count": 272,
   "id": "86dd6040",
   "metadata": {},
   "outputs": [
    {
     "data": {
      "text/plain": [
       "'True'"
      ]
     },
     "execution_count": 272,
     "metadata": {},
     "output_type": "execute_result"
    }
   ],
   "source": [
    "neg_dfs[\"step1\"].loc[\"Agent1\",\"Agent2\"]"
   ]
  },
  {
   "cell_type": "code",
   "execution_count": 275,
   "id": "1a645d0d",
   "metadata": {},
   "outputs": [],
   "source": [
    "neg_dfs[\"step1\"] = neg_dfs[\"step1\"].applymap(lambda x: 1 if x == 'True' else 0)\n",
    "neg_dfs[\"step1\"].loc[\"Agent1\",\"Agent2\"]=2"
   ]
  },
  {
   "cell_type": "code",
   "execution_count": 278,
   "id": "02375341",
   "metadata": {},
   "outputs": [
    {
     "data": {
      "text/html": [
       "<div>\n",
       "<style scoped>\n",
       "    .dataframe tbody tr th:only-of-type {\n",
       "        vertical-align: middle;\n",
       "    }\n",
       "\n",
       "    .dataframe tbody tr th {\n",
       "        vertical-align: top;\n",
       "    }\n",
       "\n",
       "    .dataframe thead th {\n",
       "        text-align: right;\n",
       "    }\n",
       "</style>\n",
       "<table border=\"1\" class=\"dataframe\">\n",
       "  <thead>\n",
       "    <tr style=\"text-align: right;\">\n",
       "      <th></th>\n",
       "      <th>Agent1</th>\n",
       "      <th>Agent2</th>\n",
       "    </tr>\n",
       "  </thead>\n",
       "  <tbody>\n",
       "    <tr>\n",
       "      <th>Agent1</th>\n",
       "      <td>0</td>\n",
       "      <td>2</td>\n",
       "    </tr>\n",
       "    <tr>\n",
       "      <th>Agent2</th>\n",
       "      <td>0</td>\n",
       "      <td>0</td>\n",
       "    </tr>\n",
       "  </tbody>\n",
       "</table>\n",
       "</div>"
      ],
      "text/plain": [
       "        Agent1  Agent2\n",
       "Agent1       0       2\n",
       "Agent2       0       0"
      ]
     },
     "execution_count": 278,
     "metadata": {},
     "output_type": "execute_result"
    }
   ],
   "source": [
    "neg_dfs[\"step1\"]"
   ]
  },
  {
   "cell_type": "code",
   "execution_count": 280,
   "id": "a675fc2a",
   "metadata": {},
   "outputs": [
    {
     "data": {
      "text/plain": [
       "pandas.core.series.Series"
      ]
     },
     "execution_count": 280,
     "metadata": {},
     "output_type": "execute_result"
    }
   ],
   "source": [
    "type(neg_dfs[\"step1\"].sum())"
   ]
  },
  {
   "cell_type": "code",
   "execution_count": 284,
   "id": "3677305f",
   "metadata": {},
   "outputs": [
    {
     "name": "stdout",
     "output_type": "stream",
     "text": [
      "      A   B\n",
      "df1   6  15\n",
      "df2   9  18\n",
      "df3  12  21\n"
     ]
    }
   ],
   "source": [
    "# 假设你有3个DataFrame\n",
    "df1 = pd.DataFrame({'A': [1, 2, 3], 'B': [4, 5, 6]})\n",
    "df2 = pd.DataFrame({'A': [2, 3, 4], 'B': [5, 6, 7]})\n",
    "df3 = pd.DataFrame({'A': [3, 4, 5], 'B': [6, 7, 8]})\n",
    "\n",
    "# 将结果汇总到一个新的DataFrame\n",
    "result_df = pd.concat([df1.sum().to_frame().T,\n",
    "                      df2.sum().to_frame().T,\n",
    "                      df3.sum().to_frame().T], \n",
    "                     ignore_index=True)\n",
    "result_df.index = ['df1', 'df2', 'df3']\n",
    "\n",
    "print(result_df)"
   ]
  },
  {
   "cell_type": "code",
   "execution_count": 257,
   "id": "565e165e",
   "metadata": {},
   "outputs": [
    {
     "name": "stdout",
     "output_type": "stream",
     "text": [
      "A     6\n",
      "B    15\n",
      "C    24\n",
      "dtype: int64\n"
     ]
    }
   ],
   "source": [
    "import pandas as pd\n",
    "\n",
    "# 假设有以下DataFrame\n",
    "data = {'A': [1, 2, 3], 'B': [4, 5, 6], 'C': [7, 8, 9]}\n",
    "df = pd.DataFrame(data)\n",
    "\n",
    "# 计算每一列的总和\n",
    "column_sums = df.sum()\n",
    "\n",
    "print(column_sums)"
   ]
  },
  {
   "cell_type": "code",
   "execution_count": 212,
   "id": "bf920c92",
   "metadata": {},
   "outputs": [
    {
     "data": {
      "text/html": [
       "<div>\n",
       "<style scoped>\n",
       "    .dataframe tbody tr th:only-of-type {\n",
       "        vertical-align: middle;\n",
       "    }\n",
       "\n",
       "    .dataframe tbody tr th {\n",
       "        vertical-align: top;\n",
       "    }\n",
       "\n",
       "    .dataframe thead th {\n",
       "        text-align: right;\n",
       "    }\n",
       "</style>\n",
       "<table border=\"1\" class=\"dataframe\">\n",
       "  <thead>\n",
       "    <tr style=\"text-align: right;\">\n",
       "      <th></th>\n",
       "      <th>Agent1</th>\n",
       "      <th>Agent2</th>\n",
       "      <th>Agent3</th>\n",
       "      <th>Agent4</th>\n",
       "    </tr>\n",
       "  </thead>\n",
       "  <tbody>\n",
       "    <tr>\n",
       "      <th>Agent1</th>\n",
       "      <td>NaN</td>\n",
       "      <td>NaN</td>\n",
       "      <td>NaN</td>\n",
       "      <td>NaN</td>\n",
       "    </tr>\n",
       "    <tr>\n",
       "      <th>Agent2</th>\n",
       "      <td>NaN</td>\n",
       "      <td>NaN</td>\n",
       "      <td>NaN</td>\n",
       "      <td>NaN</td>\n",
       "    </tr>\n",
       "    <tr>\n",
       "      <th>Agent3</th>\n",
       "      <td>NaN</td>\n",
       "      <td>NaN</td>\n",
       "      <td>NaN</td>\n",
       "      <td>NaN</td>\n",
       "    </tr>\n",
       "    <tr>\n",
       "      <th>Agent4</th>\n",
       "      <td>NaN</td>\n",
       "      <td>NaN</td>\n",
       "      <td>NaN</td>\n",
       "      <td>NaN</td>\n",
       "    </tr>\n",
       "  </tbody>\n",
       "</table>\n",
       "</div>"
      ],
      "text/plain": [
       "       Agent1 Agent2 Agent3 Agent4\n",
       "Agent1    NaN    NaN    NaN    NaN\n",
       "Agent2    NaN    NaN    NaN    NaN\n",
       "Agent3    NaN    NaN    NaN    NaN\n",
       "Agent4    NaN    NaN    NaN    NaN"
      ]
     },
     "execution_count": 212,
     "metadata": {},
     "output_type": "execute_result"
    }
   ],
   "source": [
    "\n",
    "vote_df = pd.DataFrame(index=[f'Agent{i+1}' for i in range(4)], \n",
    "                                           columns=[f'Agent{i+1}' for i in range(4)])\n",
    "vote_df.head()"
   ]
  },
  {
   "cell_type": "code",
   "execution_count": 216,
   "id": "2db685d9",
   "metadata": {},
   "outputs": [],
   "source": [
    "vote_df.loc['Agent2', 'Agent2']=\"hello\""
   ]
  },
  {
   "cell_type": "code",
   "execution_count": 217,
   "id": "3a440e3b",
   "metadata": {},
   "outputs": [
    {
     "data": {
      "text/html": [
       "<div>\n",
       "<style scoped>\n",
       "    .dataframe tbody tr th:only-of-type {\n",
       "        vertical-align: middle;\n",
       "    }\n",
       "\n",
       "    .dataframe tbody tr th {\n",
       "        vertical-align: top;\n",
       "    }\n",
       "\n",
       "    .dataframe thead th {\n",
       "        text-align: right;\n",
       "    }\n",
       "</style>\n",
       "<table border=\"1\" class=\"dataframe\">\n",
       "  <thead>\n",
       "    <tr style=\"text-align: right;\">\n",
       "      <th></th>\n",
       "      <th>Agent1</th>\n",
       "      <th>Agent2</th>\n",
       "      <th>Agent3</th>\n",
       "      <th>Agent4</th>\n",
       "      <th>(Agent2, Agent2)</th>\n",
       "    </tr>\n",
       "  </thead>\n",
       "  <tbody>\n",
       "    <tr>\n",
       "      <th>Agent1</th>\n",
       "      <td>NaN</td>\n",
       "      <td>NaN</td>\n",
       "      <td>NaN</td>\n",
       "      <td>NaN</td>\n",
       "      <td>hello</td>\n",
       "    </tr>\n",
       "    <tr>\n",
       "      <th>Agent2</th>\n",
       "      <td>NaN</td>\n",
       "      <td>hello</td>\n",
       "      <td>NaN</td>\n",
       "      <td>NaN</td>\n",
       "      <td>hello</td>\n",
       "    </tr>\n",
       "    <tr>\n",
       "      <th>Agent3</th>\n",
       "      <td>NaN</td>\n",
       "      <td>NaN</td>\n",
       "      <td>NaN</td>\n",
       "      <td>NaN</td>\n",
       "      <td>hello</td>\n",
       "    </tr>\n",
       "    <tr>\n",
       "      <th>Agent4</th>\n",
       "      <td>NaN</td>\n",
       "      <td>NaN</td>\n",
       "      <td>NaN</td>\n",
       "      <td>NaN</td>\n",
       "      <td>hello</td>\n",
       "    </tr>\n",
       "  </tbody>\n",
       "</table>\n",
       "</div>"
      ],
      "text/plain": [
       "       Agent1 Agent2 Agent3 Agent4 (Agent2, Agent2)\n",
       "Agent1    NaN    NaN    NaN    NaN            hello\n",
       "Agent2    NaN  hello    NaN    NaN            hello\n",
       "Agent3    NaN    NaN    NaN    NaN            hello\n",
       "Agent4    NaN    NaN    NaN    NaN            hello"
      ]
     },
     "execution_count": 217,
     "metadata": {},
     "output_type": "execute_result"
    }
   ],
   "source": [
    "vote_df.head()"
   ]
  },
  {
   "cell_type": "code",
   "execution_count": 192,
   "id": "e45bf8df",
   "metadata": {},
   "outputs": [
    {
     "data": {
      "text/plain": [
       "'ahent1'"
      ]
     },
     "execution_count": 192,
     "metadata": {},
     "output_type": "execute_result"
    }
   ],
   "source": [
    "\"ahent\"+str(1)"
   ]
  },
  {
   "cell_type": "code",
   "execution_count": 182,
   "id": "482b664a",
   "metadata": {},
   "outputs": [
    {
     "name": "stdout",
     "output_type": "stream",
     "text": [
      "1.0\n",
      "1.25\n",
      "[{'title': 'Evaluation Step 1: Fluency Rating', 'id': 'step1', 'reason': 'Initial assessment step for overall fluency rating.', 'content': \"Rate the speaker's ability to produce speech fluently. Scale from 1-5, with 1 being poor fluency and 5 being excellent fluency.\", 'weight': 0.6}, {'title': 'Evaluation Step 2: Fluency Duration', 'id': 'step2', 'reason': \"Second assessment step to evaluate the speaker's sustained fluency.\", 'content': 'Measure how long the speaker maintains fluent speech without pauses or breaks. This can be done by time-stamping specific sections of the speech.', 'weight': 0.4}]\n",
      "[{'name': 'SP-people Group', 'weights': 0.24, 'reason': 'High adaptability and motor-neurotic traits make them skilled in fluency ratings.'}, {'name': 'SJ-people Group', 'weights': 0.32, 'reason': 'Conservative and reliable nature makes them trustworthy for evaluating fluency. Decision-making abilities also contribute to their effectiveness in this task.'}, {'name': 'NF-people Group', 'weights': 0.2, 'reason': 'Their empathetic and artistic disposition make them skilled at connecting with others and creating engaging content, which can be reflected in fluency ratings.'}, {'name': 'NT-people Group', 'weights': 0.24, 'reason': 'Their strong analytical skills and organized nature make them particularly effective at evaluating fluency. Their creativity and complex ideas also contribute to their unique perspective in this task.'}]\n"
     ]
    }
   ],
   "source": [
    "groupNeg = GroupNegotiation(steps_result, res_result)"
   ]
  }
 ],
 "metadata": {
  "kernelspec": {
   "display_name": "Python [conda env:LangChain_and_VectorDB]",
   "language": "python",
   "name": "conda-env-LangChain_and_VectorDB-py"
  },
  "language_info": {
   "codemirror_mode": {
    "name": "ipython",
    "version": 3
   },
   "file_extension": ".py",
   "mimetype": "text/x-python",
   "name": "python",
   "nbconvert_exporter": "python",
   "pygments_lexer": "ipython3",
   "version": "3.11.9"
  }
 },
 "nbformat": 4,
 "nbformat_minor": 5
}
